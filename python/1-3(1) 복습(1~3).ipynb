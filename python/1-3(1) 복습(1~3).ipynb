{
 "cells": [
  {
   "cell_type": "markdown",
   "metadata": {},
   "source": [
    "## *복습(array/queue/stack)"
   ]
  },
  {
   "cell_type": "markdown",
   "metadata": {},
   "source": [
    "### 1. array"
   ]
  },
  {
   "cell_type": "markdown",
   "metadata": {},
   "source": [
    "#### 연습문제 : 다음 변수의 'M'이 몇 번 포함되었는지 출력하시오."
   ]
  },
  {
   "cell_type": "code",
   "execution_count": 3,
   "metadata": {},
   "outputs": [],
   "source": [
    "dataset = ['Braund, Mr. Owen Harris',\n",
    "'Cumings, Mrs. John Bradley (Florence Briggs Thayer)',\n",
    "'Heikkinen, Miss. Laina',\n",
    "'Futrelle, Mrs. Jacques Heath (Lily May Peel)',\n",
    "'Allen, Mr. William Henry',\n",
    "'Moran, Mr. James',\n",
    "'McCarthy, Mr. Timothy J',\n",
    "'Palsson, Master. Gosta Leonard',\n",
    "'Johnson, Mrs. Oscar W (Elisabeth Vilhelmina Berg)',\n",
    "'Nasser, Mrs. Nicholas (Adele Achem)',\n",
    "'Sandstrom, Miss. Marguerite Rut',\n",
    "'Bonnell, Miss. Elizabeth',\n",
    "'Saundercock, Mr. William Henry',\n",
    "'Andersson, Mr. Anders Johan',\n",
    "'Vestrom, Miss. Hulda Amanda Adolfina',\n",
    "'Hewlett, Mrs. (Mary D Kingcome) ',\n",
    "'Rice, Master. Eugene',\n",
    "'Williams, Mr. Charles Eugene',\n",
    "'Vander Planke, Mrs. Julius (Emelia Maria Vandemoortele)',\n",
    "'Masselmani, Mrs. Fatima',\n",
    "'Fynney, Mr. Joseph J',\n",
    "'Beesley, Mr. Lawrence',\n",
    "'McGowan, Miss. Anna \"Annie\"',\n",
    "'Sloper, Mr. William Thompson',\n",
    "'Palsson, Miss. Torborg Danira',\n",
    "'Asplund, Mrs. Carl Oscar (Selma Augusta Emilia Johansson)',\n",
    "'Emir, Mr. Farred Chehab',\n",
    "'Fortune, Mr. Charles Alexander',\n",
    "'Dwyer, Miss. Ellen \"Nellie\"',\n",
    "'Todoroff, Mr. Lalio']"
   ]
  },
  {
   "cell_type": "code",
   "execution_count": 5,
   "metadata": {},
   "outputs": [
    {
     "name": "stdout",
     "output_type": "stream",
     "text": [
      "Braund, Mr. Owen Harris\n",
      "Cumings, Mrs. John Bradley (Florence Briggs Thayer)\n",
      "Heikkinen, Miss. Laina\n",
      "Futrelle, Mrs. Jacques Heath (Lily May Peel)\n",
      "Allen, Mr. William Henry\n",
      "Moran, Mr. James\n",
      "McCarthy, Mr. Timothy J\n",
      "Palsson, Master. Gosta Leonard\n",
      "Johnson, Mrs. Oscar W (Elisabeth Vilhelmina Berg)\n",
      "Nasser, Mrs. Nicholas (Adele Achem)\n",
      "Sandstrom, Miss. Marguerite Rut\n",
      "Bonnell, Miss. Elizabeth\n",
      "Saundercock, Mr. William Henry\n",
      "Andersson, Mr. Anders Johan\n",
      "Vestrom, Miss. Hulda Amanda Adolfina\n",
      "Hewlett, Mrs. (Mary D Kingcome) \n",
      "Rice, Master. Eugene\n",
      "Williams, Mr. Charles Eugene\n",
      "Vander Planke, Mrs. Julius (Emelia Maria Vandemoortele)\n",
      "Masselmani, Mrs. Fatima\n",
      "Fynney, Mr. Joseph J\n",
      "Beesley, Mr. Lawrence\n",
      "McGowan, Miss. Anna \"Annie\"\n",
      "Sloper, Mr. William Thompson\n",
      "Palsson, Miss. Torborg Danira\n",
      "Asplund, Mrs. Carl Oscar (Selma Augusta Emilia Johansson)\n",
      "Emir, Mr. Farred Chehab\n",
      "Fortune, Mr. Charles Alexander\n",
      "Dwyer, Miss. Ellen \"Nellie\"\n",
      "Todoroff, Mr. Lalio\n"
     ]
    }
   ],
   "source": [
    "m_count = 0;\n",
    "for data in dataset:\n",
    "    print(data)"
   ]
  },
  {
   "cell_type": "code",
   "execution_count": 26,
   "metadata": {},
   "outputs": [
    {
     "name": "stdout",
     "output_type": "stream",
     "text": [
      "38\n"
     ]
    }
   ],
   "source": [
    "m_count = 0;\n",
    "for data in dataset:\n",
    "    for index in range(len(data)):\n",
    "        if(data[index] == 'M'):\n",
    "            m_count+=1;\n",
    "print(m_count)\n",
    "        "
   ]
  },
  {
   "cell_type": "markdown",
   "metadata": {},
   "source": [
    "#### 연습문제 : 길이가 n일 배열에 1부터 n까지 숫자가 중복 없이 한 번씩 들어있는지를 확인하려고 합니다. 1부터 n까지 숫자가 중복 없이 한 번씩 들어 있는 경우 true를, 아닌 경우 false를 반환하도록 함수 solution을 완성해주세요. "
   ]
  },
  {
   "cell_type": "code",
   "execution_count": 47,
   "metadata": {},
   "outputs": [
    {
     "name": "stdout",
     "output_type": "stream",
     "text": [
      "True\n",
      "False\n"
     ]
    }
   ],
   "source": [
    "def solution(data):\n",
    "    \n",
    "    data = list(set(data))\n",
    "    data.sort()\n",
    "    \n",
    "    if(len(data) == data[-1]) :\n",
    "        return True\n",
    "    else : return False\n",
    "\n",
    "data01 = [1,2,3,4,5,6,7,8,9,10]\n",
    "data02 = [1,3,4,4,4,4,4,4,3,10]\n",
    "\n",
    "print(solution(data01))\n",
    "print(solution(data02))"
   ]
  },
  {
   "cell_type": "code",
   "execution_count": 51,
   "metadata": {},
   "outputs": [
    {
     "name": "stdout",
     "output_type": "stream",
     "text": [
      "True\n",
      "False\n"
     ]
    }
   ],
   "source": [
    "'''\n",
    "삼항 연산 이용\n",
    "\n",
    "'''\n",
    "\n",
    "def solution(data):\n",
    "    \n",
    "    data = list(set(data))\n",
    "    data.sort()\n",
    "    \n",
    "    answer = True if data[-1] == len(data) else False\n",
    "    \n",
    "    return answer\n",
    "\n",
    "data01 = [1,2,3,4,5,6,7,8,9,10]\n",
    "data02 = [1,3,4,4,4,4,4,4,3,10]\n",
    "\n",
    "print(solution(data01))\n",
    "print(solution(data02))"
   ]
  },
  {
   "cell_type": "markdown",
   "metadata": {},
   "source": [
    "### 2. queue"
   ]
  },
  {
   "cell_type": "markdown",
   "metadata": {},
   "source": [
    "#### 연습문제 : list 로 enqueue, dequeue 함수를 만들고, 큐 구조를 완성하시오."
   ]
  },
  {
   "cell_type": "code",
   "execution_count": 65,
   "metadata": {},
   "outputs": [
    {
     "name": "stdout",
     "output_type": "stream",
     "text": [
      "1\n",
      "3\n",
      "4\n",
      "5\n"
     ]
    }
   ],
   "source": [
    "data_queue = list()\n",
    "\n",
    "def enqueue(data) :\n",
    "    data_queue.append(data)\n",
    "    \n",
    "def dequeue():\n",
    "    data = data_queue[0]\n",
    "    del data_queue[0]\n",
    "    print(data)\n",
    "    \n",
    "enqueue(1)\n",
    "enqueue(3)\n",
    "enqueue(4)\n",
    "enqueue(5)\n",
    "\n",
    "dequeue()\n",
    "dequeue()\n",
    "dequeue()\n",
    "dequeue()"
   ]
  },
  {
   "cell_type": "markdown",
   "metadata": {},
   "source": [
    "#### 연습문제 : queue 라이브러리를 사용해서 실습해보시오"
   ]
  },
  {
   "cell_type": "code",
   "execution_count": 70,
   "metadata": {},
   "outputs": [
    {
     "name": "stdout",
     "output_type": "stream",
     "text": [
      "1\n",
      "3\n",
      "4\n",
      "5\n"
     ]
    }
   ],
   "source": [
    "import queue\n",
    "\n",
    "queue = queue.Queue()\n",
    "\n",
    "queue.put(1)\n",
    "queue.put(3)\n",
    "queue.put(4)\n",
    "queue.put(5)\n",
    "\n",
    "print(queue.get())\n",
    "print(queue.get())\n",
    "print(queue.get())\n",
    "print(queue.get())"
   ]
  },
  {
   "cell_type": "markdown",
   "metadata": {},
   "source": [
    "### 3. stack"
   ]
  },
  {
   "cell_type": "markdown",
   "metadata": {},
   "source": [
    "#### 연습문제 : list 로 push, pop 함수를 만들고, 큐 구조를 완성하시오."
   ]
  },
  {
   "cell_type": "code",
   "execution_count": 73,
   "metadata": {},
   "outputs": [
    {
     "name": "stdout",
     "output_type": "stream",
     "text": [
      "5\n",
      "4\n",
      "3\n",
      "1\n"
     ]
    }
   ],
   "source": [
    "data_stack = list()\n",
    "\n",
    "def push(data) :\n",
    "    data_stack.append(data)\n",
    "    \n",
    "def pop() :\n",
    "    data = data_stack[-1]\n",
    "    del data_stack[-1]\n",
    "    print(data)\n",
    "    \n",
    "push(1)\n",
    "push(3)\n",
    "push(4)\n",
    "push(5)\n",
    "\n",
    "pop()\n",
    "pop()\n",
    "pop()\n",
    "pop()"
   ]
  }
 ],
 "metadata": {
  "kernelspec": {
   "display_name": "Python 3",
   "language": "python",
   "name": "python3"
  },
  "language_info": {
   "codemirror_mode": {
    "name": "ipython",
    "version": 3
   },
   "file_extension": ".py",
   "mimetype": "text/x-python",
   "name": "python",
   "nbconvert_exporter": "python",
   "pygments_lexer": "ipython3",
   "version": "3.7.6"
  }
 },
 "nbformat": 4,
 "nbformat_minor": 4
}
